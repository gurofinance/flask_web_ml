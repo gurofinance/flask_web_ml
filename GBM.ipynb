{
 "cells": [
  {
   "cell_type": "code",
   "execution_count": 1,
   "id": "b8b4a88d",
   "metadata": {
    "ExecuteTime": {
     "end_time": "2021-12-29T02:12:11.787791Z",
     "start_time": "2021-12-29T02:12:05.342833Z"
    }
   },
   "outputs": [],
   "source": [
    "from sklearn.ensemble import GradientBoostingClassifier\n",
    "from sklearn.datasets import load_breast_cancer\n",
    "from sklearn.metrics import accuracy_score\n",
    "from sklearn.model_selection import train_test_split\n",
    "import pandas as pd\n",
    "import time\n",
    "import warnings\n",
    "warnings.filterwarnings('ignore')"
   ]
  },
  {
   "cell_type": "code",
   "execution_count": 2,
   "id": "b0df137d",
   "metadata": {
    "ExecuteTime": {
     "end_time": "2021-12-29T02:12:18.728051Z",
     "start_time": "2021-12-29T02:12:18.690154Z"
    }
   },
   "outputs": [],
   "source": [
    "cancer = load_breast_cancer()\n",
    "data_df = pd.DataFrame(cancer.data, columns=cancer.feature_names)"
   ]
  },
  {
   "cell_type": "code",
   "execution_count": 3,
   "id": "a7b862c3",
   "metadata": {
    "ExecuteTime": {
     "end_time": "2021-12-29T02:12:34.283782Z",
     "start_time": "2021-12-29T02:12:34.265825Z"
    }
   },
   "outputs": [],
   "source": [
    "X_train, X_test, y_train, y_test = train_test_split(cancer.data, cancer.target,\n",
    "                                                   test_size=0.33, random_state=100)"
   ]
  },
  {
   "cell_type": "code",
   "execution_count": 4,
   "id": "41ad43b4",
   "metadata": {
    "ExecuteTime": {
     "end_time": "2021-12-29T02:13:38.215293Z",
     "start_time": "2021-12-29T02:13:37.335593Z"
    }
   },
   "outputs": [
    {
     "name": "stdout",
     "output_type": "stream",
     "text": [
      "GBM 정확도:0.9468085106382979\n",
      "GBM 수행시간 : 0.8647432327270508\n"
     ]
    }
   ],
   "source": [
    "import pickle\n",
    "start_time = time.time()\n",
    "\n",
    "gb_clf = GradientBoostingClassifier(random_state=0)\n",
    "gb_clf.fit(X_train, y_train)\n",
    "\n",
    "\n",
    "with open('models/gbm_model.pkl','wb') as f:\n",
    "    pickle.dump(gb_clf, f)\n",
    "    \n",
    "with open('models/gbm_model.pkl','rb') as f:\n",
    "    model = pickle.load(f)\n",
    "    gb_pred = model.predict(X_test)\n",
    "    accuracy = accuracy_score(y_test,gb_pred)\n",
    "    print(f'GBM 정확도:{accuracy}')\n",
    "\n",
    "print(f'GBM 수행시간 : {time.time()-start_time}')"
   ]
  },
  {
   "cell_type": "code",
   "execution_count": 6,
   "id": "5cf90bd3",
   "metadata": {
    "ExecuteTime": {
     "end_time": "2021-12-29T02:14:56.384416Z",
     "start_time": "2021-12-29T02:14:48.594658Z"
    }
   },
   "outputs": [
    {
     "name": "stdout",
     "output_type": "stream",
     "text": [
      "Fitting 2 folds for each of 4 candidates, totalling 8 fits\n",
      "최적 하이퍼 파라미터:\n",
      "{'learning_rate': 0.1, 'n_estimators': 100}\n",
      "최고 예측 정확도:0.9448746211077432\n",
      "GradientBoostingClassifier(random_state=0)\n"
     ]
    }
   ],
   "source": [
    "from sklearn.model_selection import GridSearchCV\n",
    "\n",
    "params = {\n",
    "    'n_estimators':[100,500],\n",
    "    'learning_rate':[0.05,0.1]\n",
    "}\n",
    "grid_cv=GridSearchCV(gb_clf,param_grid=params,cv=2,verbose=1)\n",
    "grid_cv.fit(X_train, y_train)\n",
    "print(f'최적 하이퍼 파라미터:\\n{grid_cv.best_params_}')\n",
    "print(f'최고 예측 정확도:{grid_cv.best_score_}')\n",
    "print(f'{grid_cv.best_estimator_}')"
   ]
  },
  {
   "cell_type": "code",
   "execution_count": 7,
   "id": "f07fdc66",
   "metadata": {
    "ExecuteTime": {
     "end_time": "2021-12-29T02:16:38.091977Z",
     "start_time": "2021-12-29T02:16:38.030166Z"
    }
   },
   "outputs": [
    {
     "name": "stdout",
     "output_type": "stream",
     "text": [
      "GBM 정확도:0.9468085106382979\n"
     ]
    }
   ],
   "source": [
    "with open('models/gbm_grid_model.pkl','wb') as f:\n",
    "    pickle.dump(grid_cv, f)\n",
    "\n",
    "with open('models/gbm_grid_model.pkl','rb') as f:\n",
    "    model = pickle.load(f)\n",
    "    pred = model.best_estimator_.predict(X_test)\n",
    "    accuracy = accuracy_score(y_test,pred)\n",
    "    print(f'GBM 정확도:{accuracy_score(y_test,pred)}')\n"
   ]
  },
  {
   "cell_type": "code",
   "execution_count": null,
   "id": "e25954d7",
   "metadata": {},
   "outputs": [],
   "source": []
  }
 ],
 "metadata": {
  "kernelspec": {
   "display_name": "Python 3 (ipykernel)",
   "language": "python",
   "name": "python3"
  },
  "language_info": {
   "codemirror_mode": {
    "name": "ipython",
    "version": 3
   },
   "file_extension": ".py",
   "mimetype": "text/x-python",
   "name": "python",
   "nbconvert_exporter": "python",
   "pygments_lexer": "ipython3",
   "version": "3.8.9"
  },
  "toc": {
   "base_numbering": 1,
   "nav_menu": {},
   "number_sections": true,
   "sideBar": true,
   "skip_h1_title": false,
   "title_cell": "Table of Contents",
   "title_sidebar": "Contents",
   "toc_cell": false,
   "toc_position": {},
   "toc_section_display": true,
   "toc_window_display": false
  },
  "varInspector": {
   "cols": {
    "lenName": 16,
    "lenType": 16,
    "lenVar": 40
   },
   "kernels_config": {
    "python": {
     "delete_cmd_postfix": "",
     "delete_cmd_prefix": "del ",
     "library": "var_list.py",
     "varRefreshCmd": "print(var_dic_list())"
    },
    "r": {
     "delete_cmd_postfix": ") ",
     "delete_cmd_prefix": "rm(",
     "library": "var_list.r",
     "varRefreshCmd": "cat(var_dic_list()) "
    }
   },
   "types_to_exclude": [
    "module",
    "function",
    "builtin_function_or_method",
    "instance",
    "_Feature"
   ],
   "window_display": false
  }
 },
 "nbformat": 4,
 "nbformat_minor": 5
}
