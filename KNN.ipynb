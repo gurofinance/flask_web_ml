{
 "cells": [
  {
   "cell_type": "code",
   "execution_count": 1,
   "id": "235dddc8",
   "metadata": {
    "ExecuteTime": {
     "end_time": "2021-12-30T01:57:45.773650Z",
     "start_time": "2021-12-30T01:57:45.765630Z"
    }
   },
   "outputs": [],
   "source": [
    "import time\n",
    "import pickle\n",
    "\n",
    "from sklearn.datasets import load_iris\n",
    "from sklearn.model_selection import train_test_split\n",
    "from sklearn.neighbors import KNeighborsClassifier\n",
    "from sklearn import metrics\n",
    "from sklearn.model_selection import GridSearchCV\n",
    "from sklearn.metrics import accuracy_score"
   ]
  },
  {
   "cell_type": "code",
   "execution_count": 2,
   "id": "d35d611f",
   "metadata": {
    "ExecuteTime": {
     "end_time": "2021-12-30T01:58:58.306575Z",
     "start_time": "2021-12-30T01:58:58.284592Z"
    }
   },
   "outputs": [
    {
     "name": "stdout",
     "output_type": "stream",
     "text": [
      "(120, 4)\n",
      "(30, 4)\n"
     ]
    }
   ],
   "source": [
    "iris = load_iris()\n",
    "X = iris.data\n",
    "y = iris.target\n",
    "\n",
    "X_train,X_test,y_train,y_test = train_test_split(X,y,test_size=0.2,random_state=4)\n",
    "print(X_train.shape)\n",
    "print(X_test.shape)"
   ]
  },
  {
   "cell_type": "code",
   "execution_count": 3,
   "id": "83f4f7dc",
   "metadata": {
    "ExecuteTime": {
     "end_time": "2021-12-30T02:08:58.814889Z",
     "start_time": "2021-12-30T02:08:58.767030Z"
    }
   },
   "outputs": [
    {
     "name": "stdout",
     "output_type": "stream",
     "text": [
      "KNN Accuracy: 0.9667\n",
      "KNN Executing Time: 0.0 sec\n",
      "0.9666666666666667\n"
     ]
    }
   ],
   "source": [
    "# knn_clf = KNeighborsClassifier(n_neighbors=6)\n",
    "# knn_clf.fit(X_train, y_train)\n",
    "\n",
    "# y_pred = knn_clf.predict(X_test)\n",
    "# scores = metrics.accuracy_score(y_test, y_pred)\n",
    "# print(f'{scores:.4f}')\n",
    "\n",
    "\n",
    "start_time = time.time()\n",
    "\n",
    "knn_clf = KNeighborsClassifier(n_neighbors=6)\n",
    "knn_clf.fit(X_train, y_train)\n",
    "\n",
    "with open('models/knn_model.pkl', 'wb') as f :\n",
    "    pickle.dump(knn_clf, f)\n",
    "\n",
    "with open('models/knn_model.pkl', 'rb') as f :\n",
    "    model = pickle.load(f)\n",
    "    pred = model.predict(X_test)\n",
    "    accuracy = accuracy_score(y_test, pred)\n",
    "    print(f'KNN Accuracy: {accuracy:.4f}')\n",
    "    print(f'KNN Executing Time: {(time.time() - start_time):.1f} sec')\n",
    "    \n",
    "predictions = knn_clf.predict(X_test)\n",
    "# print(y_test)\n",
    "print(accuracy_score(y_test, predictions))"
   ]
  },
  {
   "cell_type": "code",
   "execution_count": 32,
   "id": "be723e0b",
   "metadata": {
    "ExecuteTime": {
     "end_time": "2021-12-30T01:59:14.550260Z",
     "start_time": "2021-12-30T01:59:14.539288Z"
    }
   },
   "outputs": [
    {
     "name": "stdout",
     "output_type": "stream",
     "text": [
      "versicolor\n",
      "setosa\n"
     ]
    }
   ],
   "source": [
    "knn = KNeighborsClassifier(n_neighbors=5)\n",
    "knn.fit(X, y)\n",
    "\n",
    "#0 = setosa, 1=versicolor, 2=virginica\n",
    "classes = {0:'setosa',1:'versicolor',2:'virginica'}\n",
    "\n",
    "x_new = [[3,4,5,2],\n",
    "[5,4,2,2]]\n",
    "y_predict = knn.predict(x_new)\n",
    "print(classes[y_predict[0]])\n",
    "print(classes[y_predict[1]])"
   ]
  },
  {
   "cell_type": "code",
   "execution_count": 4,
   "id": "70adcfda",
   "metadata": {
    "ExecuteTime": {
     "end_time": "2021-12-30T02:09:03.679545Z",
     "start_time": "2021-12-30T02:09:03.512998Z"
    }
   },
   "outputs": [
    {
     "name": "stdout",
     "output_type": "stream",
     "text": [
      "Fitting 2 folds for each of 5 candidates, totalling 10 fits\n",
      "최적 하이퍼 파라미터:  {'n_neighbors': 3}\n",
      "최고 예측 정확도: 0.9750\n",
      "KNeighborsClassifier(n_neighbors=3)\n"
     ]
    }
   ],
   "source": [
    "params = {\n",
    "    'n_neighbors' : [3, 4, 5, 6, 7]\n",
    "}\n",
    "\n",
    "grid_cv = GridSearchCV(knn_clf, param_grid=params, cv=2, verbose=1)\n",
    "grid_cv.fit(X_train, y_train)\n",
    "print('최적 하이퍼 파라미터: ', grid_cv.best_params_)\n",
    "print(f'최고 예측 정확도: {grid_cv.best_score_:.4f}')\n",
    "print(f'{grid_cv.best_estimator_}')"
   ]
  },
  {
   "cell_type": "code",
   "execution_count": null,
   "id": "87484cd5",
   "metadata": {},
   "outputs": [],
   "source": []
  }
 ],
 "metadata": {
  "kernelspec": {
   "display_name": "Python 3 (ipykernel)",
   "language": "python",
   "name": "python3"
  },
  "language_info": {
   "codemirror_mode": {
    "name": "ipython",
    "version": 3
   },
   "file_extension": ".py",
   "mimetype": "text/x-python",
   "name": "python",
   "nbconvert_exporter": "python",
   "pygments_lexer": "ipython3",
   "version": "3.8.9"
  },
  "toc": {
   "base_numbering": 1,
   "nav_menu": {},
   "number_sections": true,
   "sideBar": true,
   "skip_h1_title": false,
   "title_cell": "Table of Contents",
   "title_sidebar": "Contents",
   "toc_cell": false,
   "toc_position": {},
   "toc_section_display": true,
   "toc_window_display": false
  },
  "varInspector": {
   "cols": {
    "lenName": 16,
    "lenType": 16,
    "lenVar": 40
   },
   "kernels_config": {
    "python": {
     "delete_cmd_postfix": "",
     "delete_cmd_prefix": "del ",
     "library": "var_list.py",
     "varRefreshCmd": "print(var_dic_list())"
    },
    "r": {
     "delete_cmd_postfix": ") ",
     "delete_cmd_prefix": "rm(",
     "library": "var_list.r",
     "varRefreshCmd": "cat(var_dic_list()) "
    }
   },
   "types_to_exclude": [
    "module",
    "function",
    "builtin_function_or_method",
    "instance",
    "_Feature"
   ],
   "window_display": false
  }
 },
 "nbformat": 4,
 "nbformat_minor": 5
}
