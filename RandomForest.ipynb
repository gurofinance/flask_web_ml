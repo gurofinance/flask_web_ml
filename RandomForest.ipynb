{
 "cells": [
  {
   "cell_type": "code",
   "execution_count": 7,
   "id": "5257d525",
   "metadata": {
    "ExecuteTime": {
     "end_time": "2021-12-29T00:43:39.922395Z",
     "start_time": "2021-12-29T00:43:39.870543Z"
    }
   },
   "outputs": [],
   "source": [
    "from sklearn.datasets import load_breast_cancer\n",
    "import pandas as pd\n",
    "from sklearn.model_selection import train_test_split\n",
    "from sklearn.ensemble import RandomForestClassifier\n",
    "from sklearn.metrics import accuracy_score\n",
    "cancer = load_breast_cancer()\n",
    "# cancer"
   ]
  },
  {
   "cell_type": "code",
   "execution_count": 5,
   "id": "2e59167b",
   "metadata": {
    "ExecuteTime": {
     "end_time": "2021-12-29T00:40:31.559779Z",
     "start_time": "2021-12-29T00:40:31.170180Z"
    }
   },
   "outputs": [],
   "source": [
    "import pickle \n",
    "\n",
    "X_train, X_test, y_train, y_test = train_test_split(cancer.data,\n",
    "                                                    cancer.target,\n",
    "                                                    test_size=0.33,\n",
    "                                                   random_state=100)\n",
    "rf_clf = RandomForestClassifier(random_state = 0)\n",
    "rf_clf.fit(X_train, y_train)\n",
    "\n",
    "with open('models/randomforest_model.pkl', 'wb') as f:\n",
    "    pickle.dump(rf_clf, f)\n",
    "# pred = rf_clf.predict(X_test)\n",
    "# accuracy = accuracy_score(y_test, pred)\n",
    "# print('랜덤 포레스트 정확도: {0: .4f}'.format(accuracy_score(y_test, pred)))"
   ]
  },
  {
   "cell_type": "code",
   "execution_count": 14,
   "id": "2860e3e6",
   "metadata": {
    "ExecuteTime": {
     "end_time": "2021-12-29T01:03:54.479029Z",
     "start_time": "2021-12-29T01:03:54.403233Z"
    }
   },
   "outputs": [
    {
     "name": "stdout",
     "output_type": "stream",
     "text": [
      "랜덤 포레스트 정확도:  0.9681\n"
     ]
    }
   ],
   "source": [
    "with open('models/randomforest_model.pkl', 'rb') as f:\n",
    "    model = pickle.load(f)\n",
    "    pred = model.predict(X_test)\n",
    "    accuracy = accuracy_score(y_test, pred)\n",
    "    print('랜덤 포레스트 정확도: {0: .4f}'.format(accuracy_score(y_test, pred)))"
   ]
  },
  {
   "cell_type": "code",
   "execution_count": 18,
   "id": "4c62c664",
   "metadata": {
    "ExecuteTime": {
     "end_time": "2021-12-29T01:15:05.659972Z",
     "start_time": "2021-12-29T01:14:55.262066Z"
    }
   },
   "outputs": [
    {
     "name": "stdout",
     "output_type": "stream",
     "text": [
      "최적 하이퍼 파라미터\n",
      "{'max_depth': 6, 'min_samples_leaf': 8, 'min_samples_split': 8, 'n_estimators': 100}\n",
      "최고 예측 정확도 : 0.9422981537613668\n",
      "RandomForestClassifier(max_depth=6, min_samples_leaf=8, min_samples_split=8,\n",
      "                       n_jobs=-1, random_state=0)\n",
      "0.9574468085106383\n"
     ]
    }
   ],
   "source": [
    "from sklearn.model_selection import GridSearchCV\n",
    "params = {\n",
    "    'n_estimators':[100],\n",
    "    'max_depth':[6,8,10,12],\n",
    "    'min_samples_leaf':[8,12,18],\n",
    "    'min_samples_split':[8,16,20]\n",
    "}\n",
    "rf_clf = RandomForestClassifier(random_state=0, n_jobs=-1)\n",
    "grid_cv = GridSearchCV(rf_clf, param_grid=params, cv=2, n_jobs=-1)\n",
    "grid_cv.fit(X_train,y_train)\n",
    "print(f'최적 하이퍼 파라미터\\n{grid_cv.best_params_}')\n",
    "print(f'최고 예측 정확도 : {grid_cv.best_score_}')\n",
    "\n",
    "em = grid_cv.best_estimator_\n",
    "pred = em.predict(X_test)\n",
    "print(em)\n",
    "print(accuracy_score(y_test, pred))"
   ]
  },
  {
   "cell_type": "code",
   "execution_count": 19,
   "id": "2508a2be",
   "metadata": {
    "ExecuteTime": {
     "end_time": "2021-12-29T01:28:18.801063Z",
     "start_time": "2021-12-29T01:28:18.240511Z"
    }
   },
   "outputs": [],
   "source": [
    "rf_clf = RandomForestClassifier(n_estimators=100, max_depth= 6 , min_samples_leaf = 8,min_samples_split = 8 ,random_state=0, n_jobs=-1)\n",
    "rf_clf.fit(X_train, y_train)\n",
    "\n",
    "with open('models/gridsearchcv_randomforest_model.pkl', 'wb') as f:\n",
    "    pickle.dump(rf_clf , f)"
   ]
  },
  {
   "cell_type": "code",
   "execution_count": 20,
   "id": "656712ee",
   "metadata": {
    "ExecuteTime": {
     "end_time": "2021-12-29T01:28:20.994034Z",
     "start_time": "2021-12-29T01:28:20.582547Z"
    }
   },
   "outputs": [
    {
     "name": "stdout",
     "output_type": "stream",
     "text": [
      "램덤포레스트의 정확도는 0.9574468085106383\n"
     ]
    }
   ],
   "source": [
    "with open('models/gridsearchcv_randomfores_model.pkl', 'rb') as f:\n",
    "    model = pickle.load(f)\n",
    "    pred = model.predict(X_test)\n",
    "    print(f'램덤포레스트의 정확도는 {accuracy_score(y_test, pred)}')"
   ]
  },
  {
   "cell_type": "code",
   "execution_count": null,
   "id": "b4bf1a86",
   "metadata": {},
   "outputs": [],
   "source": []
  }
 ],
 "metadata": {
  "kernelspec": {
   "display_name": "Python 3 (ipykernel)",
   "language": "python",
   "name": "python3"
  },
  "language_info": {
   "codemirror_mode": {
    "name": "ipython",
    "version": 3
   },
   "file_extension": ".py",
   "mimetype": "text/x-python",
   "name": "python",
   "nbconvert_exporter": "python",
   "pygments_lexer": "ipython3",
   "version": "3.8.9"
  },
  "varInspector": {
   "cols": {
    "lenName": 16,
    "lenType": 16,
    "lenVar": 40
   },
   "kernels_config": {
    "python": {
     "delete_cmd_postfix": "",
     "delete_cmd_prefix": "del ",
     "library": "var_list.py",
     "varRefreshCmd": "print(var_dic_list())"
    },
    "r": {
     "delete_cmd_postfix": ") ",
     "delete_cmd_prefix": "rm(",
     "library": "var_list.r",
     "varRefreshCmd": "cat(var_dic_list()) "
    }
   },
   "types_to_exclude": [
    "module",
    "function",
    "builtin_function_or_method",
    "instance",
    "_Feature"
   ],
   "window_display": false
  }
 },
 "nbformat": 4,
 "nbformat_minor": 5
}
