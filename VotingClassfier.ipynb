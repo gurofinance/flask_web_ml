{
 "cells": [
  {
   "cell_type": "code",
   "execution_count": null,
   "id": "1b6df4e5",
   "metadata": {
    "ExecuteTime": {
     "start_time": "2021-12-28T02:21:04.852Z"
    }
   },
   "outputs": [],
   "source": [
    "import pandas as pd\n",
    "from sklearn.ensemble import VotingClassifier\n",
    "from sklearn.linear_model import LogisticRegression\n",
    "from sklearn.neighbors import KNeighborsClassifier\n",
    "from sklearn.datasets import load_breast_cancer\n",
    "from sklearn.model_selection import train_test_split\n",
    "from sklearn.metrics import accuracy_score\n",
    "\n",
    "cancer = load_breast_cancer()\n",
    "data_df = pd.DataFrame(cancer.data, columns=cancer.feature_names)\n",
    "data_df.head(3)\n",
    "print(len(data_df.columns))\n",
    "print"
   ]
  },
  {
   "cell_type": "code",
   "execution_count": 15,
   "id": "bbefd917",
   "metadata": {
    "ExecuteTime": {
     "end_time": "2021-12-28T02:18:44.434097Z",
     "start_time": "2021-12-28T02:18:44.402178Z"
    }
   },
   "outputs": [
    {
     "name": "stdout",
     "output_type": "stream",
     "text": [
      "[[1.791e+01 2.102e+01 1.244e+02 ... 1.964e-01 3.245e-01 1.198e-01]\n",
      " [1.434e+01 1.347e+01 9.251e+01 ... 1.087e-01 3.062e-01 6.072e-02]\n",
      " [2.016e+01 1.966e+01 1.311e+02 ... 1.425e-01 3.055e-01 5.933e-02]\n",
      " ...\n",
      " [1.303e+01 1.842e+01 8.261e+01 ... 5.013e-02 1.987e-01 6.169e-02]\n",
      " [1.825e+01 1.998e+01 1.196e+02 ... 1.932e-01 3.063e-01 8.368e-02]\n",
      " [9.847e+00 1.568e+01 6.300e+01 ... 6.528e-02 2.502e-01 9.209e-02]]\n"
     ]
    }
   ],
   "source": [
    "# 개별 모델로서 로지스틱 회귀와 KNN\n",
    "lr_clf = LogisticRegression(max_iter=5000)\n",
    "knn_clf = KNeighborsClassifier(n_neighbors=8)\n",
    "# 개별 모델을 소프트 보팅 기반의 앙상블 모델로 구현한 분류기\n",
    "vo_clf = VotingClassifier(estimators=[('LR', lr_clf), ('KNN', knn_clf)], voting='soft')\n",
    "X_train, X_test, y_train, y_test = train_test_split(cancer.data, cancer.target, test_size=.2, random_state=100)\n",
    "# VotingClassifier 학습/예측 평가\n",
    "print(X_test)\n",
    "vo_clf.fit(X_train, y_train)\n",
    "pred = vo_clf.predict(X_test)\n",
    "print('Voting Classifier 정확도: {0: .4f}'.format(accuracy_score(y_test, pred)))\n",
    "# 개별 모델의 학습/예측/평가\n",
    "classifiers = [lr_clf, knn_clf]\n",
    "for classifier in classifiers:\n",
    "    classifier.fit(X_train, y_train)\n",
    "    pred = classifier.predict(X_test)\n",
    "    class_name = classifier.__class__.__name__\n",
    "    print('{0} 정확도: {1: .4f}'.format(class_name, accuracy_score(y_test, pred)))"
   ]
  },
  {
   "cell_type": "code",
   "execution_count": 11,
   "id": "bcb47c99",
   "metadata": {
    "ExecuteTime": {
     "end_time": "2021-12-28T01:47:31.834238Z",
     "start_time": "2021-12-28T01:47:29.489129Z"
    }
   },
   "outputs": [],
   "source": [
    "vo_clf.fit(X_train, y_train)\n",
    "lr_clf.fit(X_train, y_train)\n",
    "knn_clf.fit(X_train, y_train)\n",
    "import pickle\n",
    "\n",
    "pickle.dump(lr_clf, open('models/lr_model.pkl', 'wb'))\n",
    "pickle.dump(knn_clf, open('models/knn_model.pkl', 'wb'))\n",
    "pickle.dump(vo_clf, open('models/voting_model.pkl', 'wb'))"
   ]
  },
  {
   "cell_type": "code",
   "execution_count": 12,
   "id": "c1ebf0b3",
   "metadata": {
    "ExecuteTime": {
     "end_time": "2021-12-28T01:55:58.392315Z",
     "start_time": "2021-12-28T01:55:58.375357Z"
    }
   },
   "outputs": [
    {
     "name": "stdout",
     "output_type": "stream",
     "text": [
      "Rogistic Regression Classifier 정확도: 0.956140350877193\n"
     ]
    }
   ],
   "source": [
    "with open('models/lr_model.pkl', 'rb') as f:\n",
    "    model = pickle.load(f)\n",
    "\n",
    "pred = model.predict(X_test)\n",
    "print(f'Rogistic Regression Classifier 정확도: {accuracy_score(y_test, pred)}')"
   ]
  },
  {
   "cell_type": "code",
   "execution_count": 14,
   "id": "03a527ce",
   "metadata": {
    "ExecuteTime": {
     "end_time": "2021-12-28T02:02:21.551475Z",
     "start_time": "2021-12-28T02:02:21.501616Z"
    }
   },
   "outputs": [
    {
     "name": "stdout",
     "output_type": "stream",
     "text": [
      "lr_model의 정확도는 0.956140350877193\n",
      "knn_model의 정확도는 0.9473684210526315\n",
      "voting_model의 정확도는 0.9649122807017544\n"
     ]
    }
   ],
   "source": [
    "lr_model = 'models/lr_model.pkl'\n",
    "knn_model = 'models/knn_model.pkl'\n",
    "voting_model = 'models/voting_model.pkl'\n",
    "models_list = [lr_model,knn_model,voting_model ]\n",
    "\n",
    "\n",
    "for model_file in models_list:\n",
    "    with open(model_file, 'rb') as f:\n",
    "        model = pickle.load(f)\n",
    "        pred = model.predict(X_test)\n",
    "        print(f'{model_file[7:-4]}의 정확도는 {accuracy_score(y_test, pred)}')"
   ]
  },
  {
   "cell_type": "code",
   "execution_count": null,
   "id": "b53e5c69",
   "metadata": {},
   "outputs": [],
   "source": []
  }
 ],
 "metadata": {
  "kernelspec": {
   "display_name": "Python 3 (ipykernel)",
   "language": "python",
   "name": "python3"
  },
  "language_info": {
   "codemirror_mode": {
    "name": "ipython",
    "version": 3
   },
   "file_extension": ".py",
   "mimetype": "text/x-python",
   "name": "python",
   "nbconvert_exporter": "python",
   "pygments_lexer": "ipython3",
   "version": "3.8.9"
  },
  "toc": {
   "base_numbering": 1,
   "nav_menu": {},
   "number_sections": true,
   "sideBar": true,
   "skip_h1_title": false,
   "title_cell": "Table of Contents",
   "title_sidebar": "Contents",
   "toc_cell": false,
   "toc_position": {},
   "toc_section_display": true,
   "toc_window_display": false
  },
  "varInspector": {
   "cols": {
    "lenName": 16,
    "lenType": 16,
    "lenVar": 40
   },
   "kernels_config": {
    "python": {
     "delete_cmd_postfix": "",
     "delete_cmd_prefix": "del ",
     "library": "var_list.py",
     "varRefreshCmd": "print(var_dic_list())"
    },
    "r": {
     "delete_cmd_postfix": ") ",
     "delete_cmd_prefix": "rm(",
     "library": "var_list.r",
     "varRefreshCmd": "cat(var_dic_list()) "
    }
   },
   "types_to_exclude": [
    "module",
    "function",
    "builtin_function_or_method",
    "instance",
    "_Feature"
   ],
   "window_display": false
  }
 },
 "nbformat": 4,
 "nbformat_minor": 5
}
